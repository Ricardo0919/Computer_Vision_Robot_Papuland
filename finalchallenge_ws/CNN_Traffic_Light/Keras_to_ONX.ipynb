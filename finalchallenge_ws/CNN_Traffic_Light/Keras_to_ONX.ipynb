{
  "cells": [
    {
      "cell_type": "markdown",
      "metadata": {
        "id": "4v9CI2uyYtss"
      },
      "source": [
        "# Importar librerías"
      ]
    },
    {
      "cell_type": "code",
      "execution_count": 5,
      "metadata": {
        "colab": {
          "base_uri": "https://localhost:8080/"
        },
        "id": "2ck6n0c8Ym82",
        "outputId": "41236ac0-8e3a-4d36-9736-c73239dbf406"
      },
      "outputs": [],
      "source": [
        "import tensorflow as tf\n",
        "import tf2onnx"
      ]
    },
    {
      "cell_type": "markdown",
      "metadata": {
        "id": "iLCqP55lYwmS"
      },
      "source": [
        "# Copiar el modelo .keras desde local"
      ]
    },
    {
      "cell_type": "code",
      "execution_count": 6,
      "metadata": {
        "id": "vfNtEUW1YUVP"
      },
      "outputs": [],
      "source": [
        "model = tf.keras.models.load_model(\"traffic_light_model.keras\")"
      ]
    },
    {
      "cell_type": "markdown",
      "metadata": {
        "id": "j_P4hNKlY0C0"
      },
      "source": [
        "# Cargar el modelo y exportar a ONNX"
      ]
    },
    {
      "cell_type": "code",
      "execution_count": 7,
      "metadata": {
        "colab": {
          "base_uri": "https://localhost:8080/"
        },
        "id": "fW9wFgfSYdDU",
        "outputId": "5ad4ee22-5abc-4e28-d1e6-e510b6aa8d91"
      },
      "outputs": [
        {
          "name": "stderr",
          "output_type": "stream",
          "text": [
            "E0000 00:00:1748051799.672927   41559 cuda_executor.cc:1228] INTERNAL: CUDA Runtime error: Failed call to cudaGetRuntimeVersion: Error loading CUDA libraries. GPU will not be used.: Error loading CUDA libraries. GPU will not be used.\n",
            "I0000 00:00:1748051799.673067   41559 devices.cc:67] Number of eligible GPUs (core count >= 8, compute capability >= 0.0): 1\n",
            "I0000 00:00:1748051799.673160   41559 single_machine.cc:374] Starting new session\n",
            "E0000 00:00:1748051799.673461   41559 cuda_executor.cc:1228] INTERNAL: CUDA Runtime error: Failed call to cudaGetRuntimeVersion: Error loading CUDA libraries. GPU will not be used.: Error loading CUDA libraries. GPU will not be used.\n",
            "W0000 00:00:1748051799.673553   41559 gpu_device.cc:2341] Cannot dlopen some GPU libraries. Please make sure the missing libraries mentioned above are installed properly if you would like to use GPU. Follow the guide at https://www.tensorflow.org/install/gpu for how to download and setup the required libraries for your platform.\n",
            "Skipping registering GPU devices...\n",
            "E0000 00:00:1748051800.244426   41559 cuda_executor.cc:1228] INTERNAL: CUDA Runtime error: Failed call to cudaGetRuntimeVersion: Error loading CUDA libraries. GPU will not be used.: Error loading CUDA libraries. GPU will not be used.\n",
            "I0000 00:00:1748051800.244583   41559 devices.cc:67] Number of eligible GPUs (core count >= 8, compute capability >= 0.0): 1\n",
            "I0000 00:00:1748051800.244665   41559 single_machine.cc:374] Starting new session\n",
            "E0000 00:00:1748051800.244924   41559 cuda_executor.cc:1228] INTERNAL: CUDA Runtime error: Failed call to cudaGetRuntimeVersion: Error loading CUDA libraries. GPU will not be used.: Error loading CUDA libraries. GPU will not be used.\n",
            "W0000 00:00:1748051800.245007   41559 gpu_device.cc:2341] Cannot dlopen some GPU libraries. Please make sure the missing libraries mentioned above are installed properly if you would like to use GPU. Follow the guide at https://www.tensorflow.org/install/gpu for how to download and setup the required libraries for your platform.\n",
            "Skipping registering GPU devices...\n"
          ]
        },
        {
          "name": "stdout",
          "output_type": "stream",
          "text": [
            "[✔] Modelo ONNX exportado como: traffic_light_model.onnx\n"
          ]
        }
      ],
      "source": [
        "spec = (tf.TensorSpec((None, 120, 160, 3), tf.float32, name=\"input\"),)\n",
        "\n",
        "model_proto, _ = tf2onnx.convert.from_keras(\n",
        "    model,\n",
        "    input_signature=spec,\n",
        "    opset=18,             # 13 funciona; 18 es el mínimo para TF-2.19\n",
        "    output_path=\"traffic_light_model.onnx\"\n",
        ")\n",
        "\n",
        "print(\"[✔] Modelo ONNX exportado como: traffic_light_model.onnx\")"
      ]
    },
    {
      "cell_type": "code",
      "execution_count": null,
      "metadata": {},
      "outputs": [],
      "source": []
    }
  ],
  "metadata": {
    "colab": {
      "provenance": []
    },
    "kernelspec": {
      "display_name": "Python 3",
      "name": "python3"
    },
    "language_info": {
      "codemirror_mode": {
        "name": "ipython",
        "version": 3
      },
      "file_extension": ".py",
      "mimetype": "text/x-python",
      "name": "python",
      "nbconvert_exporter": "python",
      "pygments_lexer": "ipython3",
      "version": "3.10.12"
    }
  },
  "nbformat": 4,
  "nbformat_minor": 0
}
